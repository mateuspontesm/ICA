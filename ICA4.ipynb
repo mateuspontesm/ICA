{
 "cells": [
  {
   "cell_type": "markdown",
   "metadata": {},
   "source": [
    "# Trabalho Computacional 3\n",
    "\n",
    "## Enunciado\n",
    "\n",
    "### Questão 1 \n",
    "Estimar a curva de potência de um aerogerador o modelo de regressão polinomial (polyfit, no Matlab/Octave). Para encontrar a ordem adequada do modelo use três critérios:\n",
    "\n",
    "* O coeficiente de determinação R2; \n",
    "* O coeficiente de determinação R2 ajustado; \n",
    "* O critério da Informação de Akaike (AIC). Varie k de 1 a 10 e construa os gráficos de cada critério em função da ordem do modelo. Os critérios forneceram resultados iguais para a ordem do modelo polnomial?\n",
    "\n",
    "### Questão 2\n",
    "Considere o mesmo problema da questão anterior e a ordem k escolhida para o\n",
    "modelo polinomial. Em outras palavras, de posse de um conjunto de N pares entradas-saída, assuma que a curva de regressão é um polinômio de ordem k (k >= 0), ou seja\n",
    "p(v) = a0 + a1.v + a2.v^2 + ... + ak.v^k;\n",
    "em que v é a velocidade do vento (m/s) e p é a potência gerada (kW) predita pelo modelo\n",
    "polinomial. Escolha um dos algoritmos de busca aleatória, Global Random Search (GRS) ou\n",
    "Local Random Search (LRS), para estimar valores para os parâmetros aj , j = 0,...,k. Compare\n",
    "o resultado obtido com aquele gerado na Questão 1.\n",
    "\n",
    "### Questão 3\n",
    "Repita a questão anterior usando as metaheurísticas populacionais PSO ou DE.\n",
    "Houve melhoria na solução obtida, que justificasse o aumento do custo-computacional?"
   ]
  },
  {
   "cell_type": "markdown",
   "metadata": {},
   "source": [
    "## Definições Iniciais e Carregamento dos Dados\n",
    "\n",
    "* Importamos as bibliotecas necessárias e o script pyswarm com as funções para o PSO\n",
    "* Definimos duas funções objetivos, uma para os algoritmos de busca e outra para o PSO, com uma pequena diferença nos argumentos\n",
    "* Carregamos os dados em um DataFrame **df**"
   ]
  },
  {
   "cell_type": "code",
   "execution_count": 2,
   "metadata": {},
   "outputs": [],
   "source": [
    "import numpy as np\n",
    "import pandas as pd\n",
    "import matplotlib.pyplot as plt\n",
    "import seaborn as sns\n",
    "import random\n",
    "import pyswarm2\n",
    "from sklearn.preprocessing import PolynomialFeatures\n",
    "from sklearn.linear_model import LinearRegression\n",
    "from sklearn.metrics import r2_score\n",
    "import statsmodels.api as sm"
   ]
  },
  {
   "cell_type": "code",
   "execution_count": 3,
   "metadata": {},
   "outputs": [],
   "source": [
    "def FuncObj(W,*args):\n",
    "    In=args[0].V\n",
    "    Out=args[0].P\n",
    "    poly=np.poly1d(W)\n",
    "    Resid=poly(In)-Out\n",
    "    return (Resid**2).sum()"
   ]
  },
  {
   "cell_type": "code",
   "execution_count": 4,
   "metadata": {},
   "outputs": [],
   "source": [
    "def FuncObj2(W,*args):\n",
    "    In=args[0]\n",
    "    Out=args[1]\n",
    "    poly=np.poly1d(W)\n",
    "    Resid=poly(In)-Out\n",
    "    return (Resid**2).sum()"
   ]
  },
  {
   "cell_type": "code",
   "execution_count": 5,
   "metadata": {},
   "outputs": [
    {
     "name": "stdout",
     "output_type": "stream",
     "text": [
      "     V  P\n",
      "0  0.0  0\n",
      "1  0.0  0\n",
      "2  0.0  0\n",
      "3  0.0  0\n",
      "4  0.0  0\n"
     ]
    }
   ],
   "source": [
    "df=pd.read_csv('aerogerador.dat',header=None,names=['V','P'],index_col=None,delim_whitespace=True)\n",
    "print(df.head())"
   ]
  },
  {
   "cell_type": "markdown",
   "metadata": {},
   "source": [
    "## Regressão Polinomial"
   ]
  },
  {
   "cell_type": "markdown",
   "metadata": {},
   "source": [
    "O processo é feito seguindo os seguintes passos:\n",
    "\n",
    "* Realizamos a regressão polinomial, obtendo os pesos da solução\n",
    "* Criamos um objeto do polinomio com os pesos obtidos no passo 1\n",
    "* Fazemos a predição a partir dos valores no DataFrame e chamando o objeto criado no passo 2\n",
    "* Calculamos o R-squared, o R-squared ajustado e o AIC e os adicionamos a lista"
   ]
  },
  {
   "cell_type": "code",
   "execution_count": 6,
   "metadata": {},
   "outputs": [],
   "source": [
    "rsquared=[]\n",
    "adjrsquared=[]\n",
    "aic=[]\n",
    "lenY=len(df.P)"
   ]
  },
  {
   "cell_type": "code",
   "execution_count": 7,
   "metadata": {},
   "outputs": [],
   "source": [
    "for k in range(1,11):\n",
    "    W,residuals,rank,svd,rcond=np.polyfit(x=df.V,y=df.P,deg=k,full=True)\n",
    "    poly=np.poly1d(W)\n",
    "    Ypred=poly(df.V)\n",
    "    r2=r2_score(y_pred=Ypred,y_true=df.P)\n",
    "    rsquared.append(r2)\n",
    "    adjrsquared.append(1 - (1-r2)*(lenY-1)/(lenY-rank-1-1))\n",
    "    aic.append(lenY*np.log(residuals[0]) + 2*(rank-1))"
   ]
  },
  {
   "cell_type": "markdown",
   "metadata": {},
   "source": [
    "Podemos visualizar os valores de AIC,R-squared e R-squared ajustado pelo grau do polinômio abaixo:"
   ]
  },
  {
   "cell_type": "code",
   "execution_count": 8,
   "metadata": {},
   "outputs": [
    {
     "name": "stdout",
     "output_type": "stream",
     "text": [
      "               AIC     AdjR2        R2\n",
      "Grau                                  \n",
      "1     32374.690011  0.929066  0.929160\n",
      "2     31870.821936  0.943323  0.943424\n",
      "3     30517.558221  0.968954  0.969023\n",
      "4     30149.206577  0.973654  0.973724\n",
      "5     30151.090785  0.973644  0.973726\n",
      "6     30150.054290  0.973667  0.973761\n",
      "7     30143.775419  0.973752  0.973857\n",
      "8     30140.612340  0.973801  0.973917\n",
      "9     30142.603573  0.973789  0.973917\n",
      "10    30142.616818  0.973801  0.973940\n"
     ]
    }
   ],
   "source": [
    "dfStats=pd.DataFrame({'R2':rsquared,'AdjR2':adjrsquared,'AIC':aic},index=range(1,11))\n",
    "dfStats.index.name='Grau'\n",
    "print(dfStats)"
   ]
  },
  {
   "cell_type": "markdown",
   "metadata": {},
   "source": [
    "Olhando o grau do melhor desempenho para cada estatística com o melhor AIC sendo o menor valor, já o melhor R2 e R2-ajustado sendo o maior valor:"
   ]
  },
  {
   "cell_type": "code",
   "execution_count": 9,
   "metadata": {},
   "outputs": [
    {
     "name": "stdout",
     "output_type": "stream",
     "text": [
      "Melhor AIC:8\n",
      "Melhor R2:10\n",
      "Melhor R2Adj:8\n"
     ]
    }
   ],
   "source": [
    "bestAIC=dfStats.AIC.idxmin()\n",
    "bestR2=dfStats.R2.idxmax()\n",
    "bestAdjR2=dfStats.AdjR2.idxmax()\n",
    "print('Melhor AIC:'+ str(bestAIC))\n",
    "print('Melhor R2:'+ str(bestR2))\n",
    "print('Melhor R2Adj:'+ str(bestAdjR2))"
   ]
  },
  {
   "cell_type": "markdown",
   "metadata": {},
   "source": [
    "## Busca Aleatória Global"
   ]
  },
  {
   "cell_type": "markdown",
   "metadata": {},
   "source": [
    "Fazemos a busca aleatória global, utilizando o limite inferior -10 e o limite superior 10 para os pesos. Utilizamos o grau do polinômio 4 para uma menor complexidade do algoritmo, já que aumentando o grau do polinômio a aproximação para o mínimo se torna muito díficil pela quantidade de parâmetros sendo buscados."
   ]
  },
  {
   "cell_type": "code",
   "execution_count": 10,
   "metadata": {},
   "outputs": [],
   "source": [
    "LimInf=-10\n",
    "LimSup=10\n",
    "Nitr=5000\n",
    "Fitness=[]\n",
    "deg=4"
   ]
  },
  {
   "cell_type": "markdown",
   "metadata": {},
   "source": [
    "Abaixo temos o algoritmo GRS:"
   ]
  },
  {
   "cell_type": "code",
   "execution_count": 11,
   "metadata": {},
   "outputs": [],
   "source": [
    "Wbest=np.random.uniform(high=LimSup,low=LimInf,size=deg+1)\n",
    "for ii in range(0,Nitr):\n",
    "    Wcand=np.random.uniform(high=LimSup,low=LimInf,size=4+1) #candidato\n",
    "    if FuncObj(Wcand,df)<FuncObj(Wbest,df):\n",
    "        Wbest=Wcand\n",
    "    Fitness.append(FuncObj(Wbest,df))"
   ]
  },
  {
   "cell_type": "markdown",
   "metadata": {},
   "source": [
    "Podemos visualizar a aptidão ao longo das iterações em escala ln(f):"
   ]
  },
  {
   "cell_type": "code",
   "execution_count": 12,
   "metadata": {},
   "outputs": [
    {
     "data": {
      "image/png": "[encoded data removed]",
      "text/plain": [
       "<matplotlib.figure.Figure at 0x2c5e824d240>"
      ]
     },
     "metadata": {},
     "output_type": "display_data"
    }
   ],
   "source": [
    "FitnessLog=pd.Series(np.log(Fitness))\n",
    "sns.set_style('whitegrid')\n",
    "plt.rc('font',size=12)\n",
    "FitnessLog.plot(figsize=(10,6),title='Fitness GRS')\n",
    "plt.ylabel('Log Natural')\n",
    "plt.show()"
   ]
  },
  {
   "cell_type": "code",
   "execution_count": 13,
   "metadata": {},
   "outputs": [
    {
     "name": "stdout",
     "output_type": "stream",
     "text": [
      "Aptidão final do GRS:16.2139831184\n"
     ]
    }
   ],
   "source": [
    "FitnessGRS=FitnessLog.values[-1]\n",
    "print('Aptidão final do GRS:'+str(FitnessGRS))"
   ]
  },
  {
   "cell_type": "markdown",
   "metadata": {},
   "source": [
    "## Busca Aleatória Local"
   ]
  },
  {
   "cell_type": "markdown",
   "metadata": {},
   "source": [
    "Realizamos a LRS utilizando os mesmos parâmetros da GRS, mas adicionando o desvio de 0.1:"
   ]
  },
  {
   "cell_type": "code",
   "execution_count": 14,
   "metadata": {},
   "outputs": [],
   "source": [
    "LimInf=-10\n",
    "LimSup=10\n",
    "Nitr=5000\n",
    "Dev=0.1\n",
    "Fitness=[]\n",
    "deg=4"
   ]
  },
  {
   "cell_type": "markdown",
   "metadata": {},
   "source": [
    "Abaixo temos o algoritmo do LRS:"
   ]
  },
  {
   "cell_type": "code",
   "execution_count": 15,
   "metadata": {},
   "outputs": [],
   "source": [
    "Wbest=np.random.uniform(high=LimSup,low=LimInf,size=deg+1)\n",
    "for ii in range(0,Nitr):\n",
    "    Wcand=np.random.normal(loc=Wbest,scale=Dev) #candidato\n",
    "    if FuncObj(Wcand,df)<FuncObj(Wbest,df):\n",
    "        Wbest=Wcand\n",
    "    Fitness.append(FuncObj(Wbest,df))"
   ]
  },
  {
   "cell_type": "markdown",
   "metadata": {},
   "source": [
    "Visualizando a aptidão ao longo das iterações:"
   ]
  },
  {
   "cell_type": "code",
   "execution_count": 16,
   "metadata": {},
   "outputs": [
    {
     "data": {
      "image/png": "[encoded data removed]",
      "text/plain": [
       "<matplotlib.figure.Figure at 0x2c5e8224b70>"
      ]
     },
     "metadata": {},
     "output_type": "display_data"
    }
   ],
   "source": [
    "FitnessLog=pd.Series(np.log(Fitness))\n",
    "plt.rc('font',size=12)\n",
    "FitnessLog.plot(figsize=(10,6),title='Fitness GLS')\n",
    "plt.ylabel('Log Natural')\n",
    "plt.show()"
   ]
  },
  {
   "cell_type": "code",
   "execution_count": 18,
   "metadata": {},
   "outputs": [
    {
     "name": "stdout",
     "output_type": "stream",
     "text": [
      "Aptidão final do LRS:13.7542284705\n"
     ]
    }
   ],
   "source": [
    "FitnessLRS=FitnessLog.values[-1]\n",
    "print('Aptidão final do LRS:'+str(FitnessLRS))"
   ]
  },
  {
   "cell_type": "markdown",
   "metadata": {},
   "source": [
    "## Particle Swarm Optimization"
   ]
  },
  {
   "cell_type": "markdown",
   "metadata": {},
   "source": [
    "Definimos os parâmetros do PSO, os limites inferiores e superiores dos pesos e máximo de iterações.\n",
    "Além disso temos os parâmetros do algoritmo abaixo:\n",
    "\n",
    "* swarmsize - número de partículas: 100\n",
    "* omega - fator de escala da velocidade da partícula: 0.5\n",
    "* phip - fator de escala da busca a partir da posição da melhor partícula: 0.5\n",
    "* phig - fator de escala da busca a partir da melhor posição do enxame: 0.5\n",
    "* iter_out - inclui o melhor valor da função por iteração"
   ]
  },
  {
   "cell_type": "code",
   "execution_count": 19,
   "metadata": {},
   "outputs": [
    {
     "name": "stdout",
     "output_type": "stream",
     "text": [
      "Stopping search: Swarm best position change less than 1e-08\n"
     ]
    }
   ],
   "source": [
    "LimInf=[-10, -10, -10, -10, -10]\n",
    "LimSup=[10, 10, 10, 10, 10]\n",
    "Nitr=200\n",
    "xopt,fopt,fiter=pyswarm2.pso(func=FuncObj2,lb=LimInf,ub=LimSup,args=(df.V, df.P),maxiter=Nitr,iter_out=True)"
   ]
  },
  {
   "cell_type": "code",
   "execution_count": 20,
   "metadata": {},
   "outputs": [
    {
     "name": "stdout",
     "output_type": "stream",
     "text": [
      "13.4284381124\n"
     ]
    }
   ],
   "source": [
    "FitnessPSO=np.log(fopt)\n",
    "print(FitnessPSO)"
   ]
  },
  {
   "cell_type": "markdown",
   "metadata": {},
   "source": [
    "Visualizando o fitness da melhor partícula do PSO ao longo das iterações:"
   ]
  },
  {
   "cell_type": "code",
   "execution_count": 21,
   "metadata": {},
   "outputs": [
    {
     "data": {
      "image/png": "[encoded data removed]",
      "text/plain": [
       "<matplotlib.figure.Figure at 0x2c5e880d390>"
      ]
     },
     "metadata": {},
     "output_type": "display_data"
    }
   ],
   "source": [
    "FitnessLog=pd.Series(np.log(fiter))\n",
    "plt.rc('font',size=12)\n",
    "FitnessLog.plot(figsize=(10,6),title='Fitness PSO')\n",
    "plt.ylabel('Log Natural')\n",
    "plt.show()"
   ]
  },
  {
   "cell_type": "markdown",
   "metadata": {},
   "source": [
    "## Conclusões Finais"
   ]
  },
  {
   "cell_type": "markdown",
   "metadata": {},
   "source": [
    "Podemos visualizar as aptidões finais de cada algoritmo e compara-las com a aptidão da regressão polinomial de grau 4."
   ]
  },
  {
   "cell_type": "code",
   "execution_count": 22,
   "metadata": {},
   "outputs": [
    {
     "name": "stdout",
     "output_type": "stream",
     "text": [
      "        Fitness\n",
      "Poly  13.396092\n",
      "GRS   16.213983\n",
      "LRS   13.754228\n",
      "PSO   13.428438\n"
     ]
    }
   ],
   "source": [
    "W,residuals,rank,svd,rcond=np.polyfit(x=df.V,y=df.P,deg=4,full=True)\n",
    "FitnessPoly=np.log(residuals[0])\n",
    "fitS=pd.DataFrame([FitnessPoly,FitnessGRS,FitnessLRS,FitnessPSO],index=['Poly','GRS','LRS','PSO'],columns=['Fitness'])\n",
    "print(fitS)"
   ]
  },
  {
   "cell_type": "markdown",
   "metadata": {},
   "source": [
    "* Podemos notar que a LRS é bem superior a GRS\n",
    "* PSO apresenta uma melhoria pequena comparada com o LRS"
   ]
  },
  {
   "cell_type": "code",
   "execution_count": null,
   "metadata": {},
   "outputs": [],
   "source": []
  }
 ],
 "metadata": {
  "kernelspec": {
   "display_name": "Python 3",
   "language": "python",
   "name": "python3"
  },
  "language_info": {
   "codemirror_mode": {
    "name": "ipython",
    "version": 3
   },
   "file_extension": ".py",
   "mimetype": "text/x-python",
   "name": "python",
   "nbconvert_exporter": "python",
   "pygments_lexer": "ipython3",
   "version": "3.6.5"
  }
 },
 "nbformat": 4,
 "nbformat_minor": 2
}
