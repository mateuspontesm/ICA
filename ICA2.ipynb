{
 "cells": [
  {
   "cell_type": "markdown",
   "metadata": {},
   "source": [
    "# Trabalho Computacional 1\n",
    "## Questão 2"
   ]
  },
  {
   "cell_type": "code",
   "execution_count": 1,
   "metadata": {},
   "outputs": [],
   "source": [
    "import numpy as np\n",
    "import pandas as pd\n",
    "import matplotlib.pyplot as plt\n",
    "import seaborn as sns\n",
    "from sklearn.preprocessing import MinMaxScaler"
   ]
  },
  {
   "cell_type": "code",
   "execution_count": 2,
   "metadata": {},
   "outputs": [
    {
     "name": "stdout",
     "output_type": "stream",
     "text": [
      "[[  1.0708  12.3     23.     ...,  32.      27.4     17.1   ]\n",
      " [  1.0853   6.1     22.     ...,  30.5     28.9     18.2   ]\n",
      " [  1.0414  25.3     22.     ...,  28.8     25.2     16.6   ]\n",
      " ..., \n",
      " [  1.0328  29.3     72.     ...,  31.3     27.2     18.    ]\n",
      " [  1.0399  26.      72.     ...,  30.5     29.4     19.8   ]\n",
      " [  1.0271  31.9     74.     ...,  33.7     30.      20.9   ]]\n"
     ]
    }
   ],
   "source": [
    "arr=np.loadtxt('Bodyfat_statlib.dat',delimiter=None)\n",
    "print(arr)"
   ]
  },
  {
   "cell_type": "markdown",
   "metadata": {},
   "source": [
    "## 1. Carregando os dados\n",
    "Carregamos os dados em um dataframe *df* e atribuimos as colunas com os valores referentes a cada caracteristica."
   ]
  },
  {
   "cell_type": "code",
   "execution_count": 3,
   "metadata": {},
   "outputs": [
    {
     "name": "stdout",
     "output_type": "stream",
     "text": [
      "   Density  SirisPct  Age  Weight  Height  NeckCirc  ChestCirc  AbdomenCirc  \\\n",
      "0   1.0708      12.3   23  154.25   67.75      36.2       93.1         85.2   \n",
      "1   1.0853       6.1   22  173.25   72.25      38.5       93.6         83.0   \n",
      "2   1.0414      25.3   22  154.00   66.25      34.0       95.8         87.9   \n",
      "3   1.0751      10.4   26  184.75   72.25      37.4      101.8         86.4   \n",
      "4   1.0340      28.7   24  184.25   71.25      34.4       97.3        100.0   \n",
      "\n",
      "   HipCirc  ThighCirc  KneeCirc  AnkleCirc  BicepsCirc  ForearmCirc  WristCirc  \n",
      "0     94.5       59.0      37.3       21.9        32.0         27.4       17.1  \n",
      "1     98.7       58.7      37.3       23.4        30.5         28.9       18.2  \n",
      "2     99.2       59.6      38.9       24.0        28.8         25.2       16.6  \n",
      "3    101.2       60.1      37.3       22.8        32.4         29.4       18.2  \n",
      "4    101.9       63.2      42.2       24.0        32.2         27.7       17.7  \n"
     ]
    }
   ],
   "source": [
    "df=pd.read_csv('Bodyfat_statlib.dat',header=None,skiprows=0,delim_whitespace=True)\n",
    "df.columns=['Density','SirisPct','Age','Weight','Height','NeckCirc','ChestCirc'\n",
    "            ,'AbdomenCirc','HipCirc','ThighCirc','KneeCirc','AnkleCirc','BicepsCirc','ForearmCirc','WristCirc']\n",
    "print(df.head())"
   ]
  },
  {
   "cell_type": "markdown",
   "metadata": {},
   "source": [
    "Dividimos os dados agora em dados de entrada e saída, dfX e dfY através da função *truncate()* e retirando a coluna *SirisPct* de *df*"
   ]
  },
  {
   "cell_type": "code",
   "execution_count": 4,
   "metadata": {},
   "outputs": [],
   "source": [
    "dfX=df.truncate(before='Age',axis='columns')\n",
    "dfY=df.SirisPct"
   ]
  },
  {
   "cell_type": "markdown",
   "metadata": {},
   "source": [
    "## 2. Visualização da distribuição\n",
    "Queremos agora visualizar a distribuição de valores das características, o melhor modo de fazer esta visualização é através do boxplot de todas as características para averiguar se existem outliers. "
   ]
  },
  {
   "cell_type": "code",
   "execution_count": 5,
   "metadata": {},
   "outputs": [
    {
     "data": {
      "image/png": "[encoded data removed]",
      "text/plain": [
       "<matplotlib.figure.Figure at 0x2b98b8ba390>"
      ]
     },
     "metadata": {},
     "output_type": "display_data"
    }
   ],
   "source": [
    "sns.set_style(style='darkgrid')\n",
    "plt.figure(figsize=[16,10])\n",
    "sns.boxplot(data=dfX)\n",
    "plt.show()"
   ]
  },
  {
   "cell_type": "markdown",
   "metadata": {},
   "source": [
    "É possivel notar que existe um outlier claro quando olhamos para a característica Weight, por volta de 360 pounds, aproximadamente 150kg, este outlier é visto também em outras características, como AbdomenCirc, circunferência do abdomen. \n",
    "\n",
    "Mas este outlier não é resultado de um erro de medição, mas sim de medições em uma pessoa com obesidade, provavelmente, de modo que não existe razão para retira-la do modelo, pois caso a retirassemos estariamos reduzindo o nosso modelo para somente casos na média que não é o objetivo."
   ]
  },
  {
   "cell_type": "markdown",
   "metadata": {},
   "source": [
    "## 3. Modelagem\n",
    "\n",
    "Criamos o nosso modelo através da função lstsq que criará um modelo de regressão baseado nos mínimos quadrados."
   ]
  },
  {
   "cell_type": "code",
   "execution_count": 6,
   "metadata": {},
   "outputs": [
    {
     "name": "stdout",
     "output_type": "stream",
     "text": [
      "[ 4431.82175163]\n"
     ]
    }
   ],
   "source": [
    "W,residSum,Xrank,Xsvd=np.linalg.lstsq(dfX,dfY)\n",
    "print(residSum)"
   ]
  },
  {
   "cell_type": "code",
   "execution_count": 7,
   "metadata": {},
   "outputs": [
    {
     "name": "stdout",
     "output_type": "stream",
     "text": [
      "[ 0.06346361 -0.03806879 -0.12870678 -0.54347276 -0.06843427  0.95490619\n",
      " -0.29986691  0.22469069 -0.04354751  0.13241799  0.16951551  0.43486663\n",
      " -1.722037  ]\n"
     ]
    }
   ],
   "source": [
    "print(W)"
   ]
  },
  {
   "cell_type": "markdown",
   "metadata": {},
   "source": [
    "Avaliando os residuos fazendo resid = W*X - Y"
   ]
  },
  {
   "cell_type": "code",
   "execution_count": 8,
   "metadata": {},
   "outputs": [],
   "source": [
    "Xarray=np.array(dfX)\n",
    "resid=np.dot(Xarray,W)-np.array(dfY)"
   ]
  },
  {
   "cell_type": "markdown",
   "metadata": {},
   "source": [
    "E avaliando a distribuição dos resíduos"
   ]
  },
  {
   "cell_type": "code",
   "execution_count": 9,
   "metadata": {},
   "outputs": [
    {
     "data": {
      "image/png": "[encoded data removed]",
      "text/plain": [
       "<matplotlib.figure.Figure at 0x2b98d3235c0>"
      ]
     },
     "metadata": {},
     "output_type": "display_data"
    },
    {
     "data": {
      "image/png": "[encoded data removed]",
      "text/plain": [
       "<matplotlib.figure.Figure at 0x2b98d2dd978>"
      ]
     },
     "metadata": {},
     "output_type": "display_data"
    }
   ],
   "source": [
    "plt.figure(figsize=[10,6])\n",
    "sns.distplot(resid,kde=False,hist_kws={'edgecolor':'k'},color='c')\n",
    "plt.show()\n",
    "sns.boxplot(resid,color='c')\n",
    "plt.show()"
   ]
  },
  {
   "cell_type": "markdown",
   "metadata": {},
   "source": [
    "## Normalizado"
   ]
  },
  {
   "cell_type": "markdown",
   "metadata": {},
   "source": [
    "Todo o processo é refeito normalizando os valores das características para entre 0 e 1 com 0 sendo o mínimo e o 1 sendo o máximo (MinMaxScaler)"
   ]
  },
  {
   "cell_type": "code",
   "execution_count": 10,
   "metadata": {},
   "outputs": [
    {
     "name": "stdout",
     "output_type": "stream",
     "text": [
      "[[ 0.66549605  0.25894737  0.01694915 ...,  0.35643564  0.46043165\n",
      "   0.23214286]\n",
      " [ 0.7928007   0.12842105  0.         ...,  0.28217822  0.56834532\n",
      "   0.42857143]\n",
      " [ 0.40737489  0.53263158  0.         ...,  0.1980198   0.30215827\n",
      "   0.14285714]\n",
      " ..., \n",
      " [ 0.33187006  0.61684211  0.84745763 ...,  0.32178218  0.44604317\n",
      "   0.39285714]\n",
      " [ 0.39420544  0.54736842  0.84745763 ...,  0.28217822  0.60431655\n",
      "   0.71428571]\n",
      " [ 0.28182616  0.67157895  0.88135593 ...,  0.44059406  0.64748201\n",
      "   0.91071429]]\n"
     ]
    }
   ],
   "source": [
    "arrScl=MinMaxScaler().fit_transform(arr)\n",
    "print(arrScl)"
   ]
  },
  {
   "cell_type": "code",
   "execution_count": 11,
   "metadata": {},
   "outputs": [
    {
     "name": "stdout",
     "output_type": "stream",
     "text": [
      "        Age    Weight    Height  NeckCirc  ChestCirc  AbdomenCirc   HipCirc  \\\n",
      "0  0.016949  0.146127  0.792746  0.253731   0.242531     0.200762  0.151515   \n",
      "1  0.000000  0.223789  0.886010  0.368159   0.251318     0.172808  0.218501   \n",
      "2  0.000000  0.145105  0.761658  0.144279   0.289982     0.235070  0.226475   \n",
      "3  0.067797  0.270795  0.886010  0.313433   0.395431     0.216010  0.258373   \n",
      "4  0.033898  0.268751  0.865285  0.164179   0.316344     0.388818  0.269537   \n",
      "\n",
      "   ThighCirc  KneeCirc  AnkleCirc  BicepsCirc  ForearmCirc  WristCirc  \n",
      "0   0.294264  0.267081   0.189189    0.356436     0.460432   0.232143  \n",
      "1   0.286783  0.267081   0.290541    0.282178     0.568345   0.428571  \n",
      "2   0.309227  0.366460   0.331081    0.198020     0.302158   0.142857  \n",
      "3   0.321696  0.267081   0.250000    0.376238     0.604317   0.428571  \n",
      "4   0.399002  0.571429   0.331081    0.366337     0.482014   0.339286  \n"
     ]
    }
   ],
   "source": [
    "dfScl=pd.DataFrame(MinMaxScaler().fit_transform(dfX),columns=dfX.columns)\n",
    "print(dfScl.head())"
   ]
  },
  {
   "cell_type": "code",
   "execution_count": 12,
   "metadata": {},
   "outputs": [
    {
     "name": "stdout",
     "output_type": "stream",
     "text": [
      "[ 4448.33248812]\n"
     ]
    }
   ],
   "source": [
    "W,residSum,Xrank,Xsvd=np.linalg.lstsq(dfScl,dfY)\n",
    "print(residSum)"
   ]
  },
  {
   "cell_type": "code",
   "execution_count": 13,
   "metadata": {},
   "outputs": [
    {
     "name": "stdout",
     "output_type": "stream",
     "text": [
      "13\n"
     ]
    }
   ],
   "source": [
    "print(Xrank)"
   ]
  },
  {
   "cell_type": "code",
   "execution_count": 16,
   "metadata": {},
   "outputs": [
    {
     "name": "stdout",
     "output_type": "stream",
     "text": [
      "[  4.34458878 -31.63139001   2.7848287   -8.84677541   0.82651594\n",
      "  75.6320818   -9.18878576  11.71794102  -0.1300238    3.31223632\n",
      "   3.79824798   7.04470129  -9.55786395]\n"
     ]
    }
   ],
   "source": [
    "resid=np.dot(dfScl,W)-dfY\n",
    "print(W)"
   ]
  },
  {
   "cell_type": "code",
   "execution_count": 15,
   "metadata": {},
   "outputs": [
    {
     "data": {
      "image/png": "[encoded data removed]",
      "text/plain": [
       "<matplotlib.figure.Figure at 0x2b98d15fbe0>"
      ]
     },
     "metadata": {},
     "output_type": "display_data"
    },
    {
     "data": {
      "image/png": "[encoded data removed]",
      "text/plain": [
       "<matplotlib.figure.Figure at 0x2b98d0f1f28>"
      ]
     },
     "metadata": {},
     "output_type": "display_data"
    }
   ],
   "source": [
    "plt.figure(figsize=[10,6])\n",
    "sns.distplot(resid,kde=False,hist_kws={'edgecolor':'k'},color='m')\n",
    "plt.show()\n",
    "sns.boxplot(resid,color='m')\n",
    "plt.show()\n"
   ]
  },
  {
   "cell_type": "code",
   "execution_count": null,
   "metadata": {},
   "outputs": [],
   "source": []
  }
 ],
 "metadata": {
  "kernelspec": {
   "display_name": "Python 3",
   "language": "python",
   "name": "python3"
  },
  "language_info": {
   "codemirror_mode": {
    "name": "ipython",
    "version": 3
   },
   "file_extension": ".py",
   "mimetype": "text/x-python",
   "name": "python",
   "nbconvert_exporter": "python",
   "pygments_lexer": "ipython3",
   "version": "3.6.5"
  }
 },
 "nbformat": 4,
 "nbformat_minor": 2
}
