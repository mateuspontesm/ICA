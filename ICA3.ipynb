{
 "cells": [
  {
   "cell_type": "markdown",
   "metadata": {},
   "source": [
    "# Ionosphere Dataset\n",
    "\n",
    "## Enunciado\n",
    "Implementar os seguintes classificadores: Mínimos Quadrados Linear (MQL), Perceptron Simples (PS) e Perceptron Multicamadas (MLP), e avaliá-los segundo as instruções abaixo: \n",
    "\n",
    "* Separar aleatoriamente 80% do conjunto de vetores para treinar o classificador linear dos mínimos quadrados e os 20% restantes serão usados para testar.\n",
    "* Repetir 100 vezes o processo de separação dos dados em 02 conjuntos de treinamento e teste e armazenar a taxa de acerto para cada uma das 100 rodadas.\n",
    "* Após o término das 100 rodadas de treinamento e teste, calcular as taxas de acerto (i) média, (ii) mínima e (iii) máxima. Calcular também o desviopadrão da taxa de acerto para as 100 rodadas.\n",
    "* Calcular as taxas de acerto médias por classe.\n",
    "\n",
    "O conjunto de dados nesta questão foi o Ionosphere.\n",
    "\n",
    "## Carregamento dos dados e definições iniciais"
   ]
  },
  {
   "cell_type": "code",
   "execution_count": 1,
   "metadata": {},
   "outputs": [],
   "source": [
    "import numpy as np\n",
    "import pandas as pd\n",
    "import matplotlib.pyplot as plt\n",
    "import seaborn as sns\n",
    "from sklearn.model_selection import train_test_split\n",
    "from sklearn.linear_model import LinearRegression, Perceptron,LogisticRegression\n",
    "from sklearn.neural_network import MLPClassifier\n",
    "from sklearn.metrics import precision_score,accuracy_score\n",
    "from sklearn.preprocessing import StandardScaler"
   ]
  },
  {
   "cell_type": "markdown",
   "metadata": {},
   "source": [
    "Iniciamos importando as bibliotecas e funções necessárias. Criaremos a seguir duas funções:"
   ]
  },
  {
   "cell_type": "code",
   "execution_count": 2,
   "metadata": {},
   "outputs": [],
   "source": [
    "def createDoubleColumn(dfK):\n",
    "    dfOut=pd.DataFrame(dfK.copy())\n",
    "    dfOut.columns=['class1']\n",
    "    dfOut['class0']=np.where(dfOut==1,0,1)\n",
    "    return dfOut"
   ]
  },
  {
   "cell_type": "markdown",
   "metadata": {},
   "source": [
    "A função *createDoubleColumn* recebe uma coluna de valores **0 1** representando a classe, e produz como saída um DataFrame com duas colunas, representando se pertence a **classe 1** na primeira coluna e se pertence a **classe 0** na segunda coluna."
   ]
  },
  {
   "cell_type": "code",
   "execution_count": 3,
   "metadata": {},
   "outputs": [],
   "source": [
    "def getClass(ar):\n",
    "    return np.argmin(ar,axis=1)"
   ]
  },
  {
   "cell_type": "markdown",
   "metadata": {},
   "source": [
    "A função *getClass* receberá uma matriz com duas colunas de valores *classe 1* e *classe 0* e retorna a classe final."
   ]
  },
  {
   "cell_type": "code",
   "execution_count": 4,
   "metadata": {},
   "outputs": [],
   "source": [
    "plt.rc('font',size=30)\n",
    "sns.set(style='whitegrid')"
   ]
  },
  {
   "cell_type": "markdown",
   "metadata": {},
   "source": [
    "Iniciamos a fonte e o estilo dos gráficos."
   ]
  },
  {
   "cell_type": "code",
   "execution_count": 5,
   "metadata": {},
   "outputs": [
    {
     "name": "stdout",
     "output_type": "stream",
     "text": [
      "['P1Atr01', 'P1Atr02', 'P2Atr01', 'P2Atr02', 'P3Atr01', 'P3Atr02', 'P4Atr01', 'P4Atr02', 'P5Atr01', 'P5Atr02', 'P6Atr01', 'P6Atr02', 'P7Atr01', 'P7Atr02', 'P8Atr01', 'P8Atr02', 'P9Atr01', 'P9Atr02', 'P10Atr01', 'P10Atr02', 'P11Atr01', 'P11Atr02', 'P12Atr01', 'P12Atr02', 'P13Atr01', 'P13Atr02', 'P14Atr01', 'P14Atr02', 'P15Atr01', 'P15Atr02', 'P16Atr01', 'P16Atr02', 'P17Atr01', 'P17Atr02', 'Class']\n"
     ]
    }
   ],
   "source": [
    "Columns=[]\n",
    "for ii in range(1,18):\n",
    "    Columns.append('P'+ str(ii) + 'Atr01') \n",
    "    Columns.append('P'+ str(ii) + 'Atr02')\n",
    "Columns.append('Class')\n",
    "print(Columns)"
   ]
  },
  {
   "cell_type": "markdown",
   "metadata": {},
   "source": [
    "Criamos os nomes das colunas a partir do texto encontrado, 17 antenas e cada antena produz dois valores mais a classe de saída.\n",
    "\n",
    "Em seguida fazemos o carregamento dos dados em um dataframe."
   ]
  },
  {
   "cell_type": "code",
   "execution_count": 6,
   "metadata": {},
   "outputs": [
    {
     "name": "stdout",
     "output_type": "stream",
     "text": [
      "   P1Atr01  P1Atr02  P2Atr01  P2Atr02  P3Atr01  P3Atr02  P4Atr01  P4Atr02  \\\n",
      "0        1        0  0.99539 -0.05889  0.85243  0.02306  0.83398 -0.37708   \n",
      "1        1        0  1.00000 -0.18829  0.93035 -0.36156 -0.10868 -0.93597   \n",
      "2        1        0  1.00000 -0.03365  1.00000  0.00485  1.00000 -0.12062   \n",
      "3        1        0  1.00000 -0.45161  1.00000  1.00000  0.71216 -1.00000   \n",
      "4        1        0  1.00000 -0.02401  0.94140  0.06531  0.92106 -0.23255   \n",
      "\n",
      "   P5Atr01  P5Atr02  ...    P13Atr02  P14Atr01  P14Atr02  P15Atr01  P15Atr02  \\\n",
      "0  1.00000  0.03760  ...    -0.51171   0.41078  -0.46168   0.21266  -0.34090   \n",
      "1  1.00000 -0.04549  ...    -0.26569  -0.20468  -0.18401  -0.19040  -0.11593   \n",
      "2  0.88965  0.01198  ...    -0.40220   0.58984  -0.22145   0.43100  -0.17365   \n",
      "3  0.00000  0.00000  ...     0.90695   0.51613   1.00000   1.00000  -0.20099   \n",
      "4  0.77152 -0.16399  ...    -0.65158   0.13290  -0.53206   0.02431  -0.62197   \n",
      "\n",
      "   P16Atr01  P16Atr02  P17Atr01  P17Atr02  Class  \n",
      "0   0.42267  -0.54487   0.18641  -0.45300      1  \n",
      "1  -0.16626  -0.06288  -0.13738  -0.02447      0  \n",
      "2   0.60436  -0.24180   0.56045  -0.38238      1  \n",
      "3   0.25682   1.00000  -0.32382   1.00000      0  \n",
      "4  -0.05707  -0.59573  -0.04608  -0.65697      1  \n",
      "\n",
      "[5 rows x 35 columns]\n"
     ]
    }
   ],
   "source": [
    "df=pd.read_csv('ionosphere.data',header=None,index_col=None)\n",
    "df.columns=Columns\n",
    "df.Class=(df.Class=='g').astype(int)\n",
    "print(df.head())"
   ]
  },
  {
   "cell_type": "markdown",
   "metadata": {},
   "source": [
    "## Análise e Manipulação dos Dados \n",
    "Mostrando a quantidade de amostras por classe:"
   ]
  },
  {
   "cell_type": "code",
   "execution_count": 7,
   "metadata": {},
   "outputs": [
    {
     "name": "stdout",
     "output_type": "stream",
     "text": [
      "1    225\n",
      "0    126\n",
      "Name: Class, dtype: int64\n"
     ]
    }
   ],
   "source": [
    "print(df.Class.value_counts())"
   ]
  },
  {
   "cell_type": "markdown",
   "metadata": {},
   "source": [
    "Graficamente:"
   ]
  },
  {
   "cell_type": "code",
   "execution_count": 8,
   "metadata": {},
   "outputs": [
    {
     "data": {
      "image/png": "[encoded data removed]",
      "text/plain": [
       "<matplotlib.figure.Figure at 0x1f4c5d21dd8>"
      ]
     },
     "metadata": {},
     "output_type": "display_data"
    }
   ],
   "source": [
    "sns.countplot(x='Class',data=df,palette='hls')\n",
    "plt.rc('font',size=12)\n",
    "plt.show()"
   ]
  },
  {
   "cell_type": "markdown",
   "metadata": {},
   "source": [
    "Olhando os valores médios de cada característica para cada classe:"
   ]
  },
  {
   "cell_type": "code",
   "execution_count": 9,
   "metadata": {},
   "outputs": [
    {
     "data": {
      "text/html": [
       "<div>\n",
       "<style>\n",
       "    .dataframe thead tr:only-child th {\n",
       "        text-align: right;\n",
       "    }\n",
       "\n",
       "    .dataframe thead th {\n",
       "        text-align: left;\n",
       "    }\n",
       "\n",
       "    .dataframe tbody tr th {\n",
       "        vertical-align: top;\n",
       "    }\n",
       "</style>\n",
       "<table border=\"1\" class=\"dataframe\">\n",
       "  <thead>\n",
       "    <tr style=\"text-align: right;\">\n",
       "      <th></th>\n",
       "      <th>P1Atr01</th>\n",
       "      <th>P1Atr02</th>\n",
       "      <th>P2Atr01</th>\n",
       "      <th>P2Atr02</th>\n",
       "      <th>P3Atr01</th>\n",
       "      <th>P3Atr02</th>\n",
       "      <th>P4Atr01</th>\n",
       "      <th>P4Atr02</th>\n",
       "      <th>P5Atr01</th>\n",
       "      <th>P5Atr02</th>\n",
       "      <th>...</th>\n",
       "      <th>P13Atr01</th>\n",
       "      <th>P13Atr02</th>\n",
       "      <th>P14Atr01</th>\n",
       "      <th>P14Atr02</th>\n",
       "      <th>P15Atr01</th>\n",
       "      <th>P15Atr02</th>\n",
       "      <th>P16Atr01</th>\n",
       "      <th>P16Atr02</th>\n",
       "      <th>P17Atr01</th>\n",
       "      <th>P17Atr02</th>\n",
       "    </tr>\n",
       "    <tr>\n",
       "      <th>Class</th>\n",
       "      <th></th>\n",
       "      <th></th>\n",
       "      <th></th>\n",
       "      <th></th>\n",
       "      <th></th>\n",
       "      <th></th>\n",
       "      <th></th>\n",
       "      <th></th>\n",
       "      <th></th>\n",
       "      <th></th>\n",
       "      <th></th>\n",
       "      <th></th>\n",
       "      <th></th>\n",
       "      <th></th>\n",
       "      <th></th>\n",
       "      <th></th>\n",
       "      <th></th>\n",
       "      <th></th>\n",
       "      <th></th>\n",
       "      <th></th>\n",
       "      <th></th>\n",
       "    </tr>\n",
       "  </thead>\n",
       "  <tbody>\n",
       "    <tr>\n",
       "      <th>0</th>\n",
       "      <td>0.698413</td>\n",
       "      <td>0.0</td>\n",
       "      <td>0.296556</td>\n",
       "      <td>-0.029780</td>\n",
       "      <td>0.242786</td>\n",
       "      <td>0.024207</td>\n",
       "      <td>0.253984</td>\n",
       "      <td>-0.024860</td>\n",
       "      <td>0.312342</td>\n",
       "      <td>0.103458</td>\n",
       "      <td>...</td>\n",
       "      <td>0.250878</td>\n",
       "      <td>-0.072233</td>\n",
       "      <td>0.618174</td>\n",
       "      <td>-0.100919</td>\n",
       "      <td>0.186302</td>\n",
       "      <td>-0.025235</td>\n",
       "      <td>0.127995</td>\n",
       "      <td>0.020880</td>\n",
       "      <td>0.167222</td>\n",
       "      <td>0.054582</td>\n",
       "    </tr>\n",
       "    <tr>\n",
       "      <th>1</th>\n",
       "      <td>1.000000</td>\n",
       "      <td>0.0</td>\n",
       "      <td>0.834422</td>\n",
       "      <td>0.085897</td>\n",
       "      <td>0.801706</td>\n",
       "      <td>0.167231</td>\n",
       "      <td>0.715917</td>\n",
       "      <td>0.200124</td>\n",
       "      <td>0.623571</td>\n",
       "      <td>0.224962</td>\n",
       "      <td>...</td>\n",
       "      <td>0.477479</td>\n",
       "      <td>-0.070601</td>\n",
       "      <td>0.498782</td>\n",
       "      <td>-0.051964</td>\n",
       "      <td>0.486046</td>\n",
       "      <td>-0.029403</td>\n",
       "      <td>0.478244</td>\n",
       "      <td>-0.017611</td>\n",
       "      <td>0.451363</td>\n",
       "      <td>-0.007977</td>\n",
       "    </tr>\n",
       "  </tbody>\n",
       "</table>\n",
       "<p>2 rows × 34 columns</p>\n",
       "</div>"
      ],
      "text/plain": [
       "        P1Atr01  P1Atr02   P2Atr01   P2Atr02   P3Atr01   P3Atr02   P4Atr01  \\\n",
       "Class                                                                        \n",
       "0      0.698413      0.0  0.296556 -0.029780  0.242786  0.024207  0.253984   \n",
       "1      1.000000      0.0  0.834422  0.085897  0.801706  0.167231  0.715917   \n",
       "\n",
       "        P4Atr02   P5Atr01   P5Atr02    ...     P13Atr01  P13Atr02  P14Atr01  \\\n",
       "Class                                  ...                                    \n",
       "0     -0.024860  0.312342  0.103458    ...     0.250878 -0.072233  0.618174   \n",
       "1      0.200124  0.623571  0.224962    ...     0.477479 -0.070601  0.498782   \n",
       "\n",
       "       P14Atr02  P15Atr01  P15Atr02  P16Atr01  P16Atr02  P17Atr01  P17Atr02  \n",
       "Class                                                                        \n",
       "0     -0.100919  0.186302 -0.025235  0.127995  0.020880  0.167222  0.054582  \n",
       "1     -0.051964  0.486046 -0.029403  0.478244 -0.017611  0.451363 -0.007977  \n",
       "\n",
       "[2 rows x 34 columns]"
      ]
     },
     "execution_count": 9,
     "metadata": {},
     "output_type": "execute_result"
    }
   ],
   "source": [
    "print(df.groupby('Class').mean())"
   ]
  },
  {
   "cell_type": "markdown",
   "metadata": {},
   "source": [
    "Separamos a as características de entrada em dois DataFrames e a classe de saída em dois DataFrames, **dfX** e **dfY**."
   ]
  },
  {
   "cell_type": "code",
   "execution_count": 10,
   "metadata": {},
   "outputs": [
    {
     "name": "stdout",
     "output_type": "stream",
     "text": [
      "   P1Atr01  P1Atr02  P2Atr01  P2Atr02  P3Atr01  P3Atr02  P4Atr01  P4Atr02  \\\n",
      "0        1        0  0.99539 -0.05889  0.85243  0.02306  0.83398 -0.37708   \n",
      "1        1        0  1.00000 -0.18829  0.93035 -0.36156 -0.10868 -0.93597   \n",
      "2        1        0  1.00000 -0.03365  1.00000  0.00485  1.00000 -0.12062   \n",
      "3        1        0  1.00000 -0.45161  1.00000  1.00000  0.71216 -1.00000   \n",
      "4        1        0  1.00000 -0.02401  0.94140  0.06531  0.92106 -0.23255   \n",
      "\n",
      "   P5Atr01  P5Atr02    ...     P13Atr01  P13Atr02  P14Atr01  P14Atr02  \\\n",
      "0  1.00000  0.03760    ...      0.56811  -0.51171   0.41078  -0.46168   \n",
      "1  1.00000 -0.04549    ...     -0.20332  -0.26569  -0.20468  -0.18401   \n",
      "2  0.88965  0.01198    ...      0.57528  -0.40220   0.58984  -0.22145   \n",
      "3  0.00000  0.00000    ...      1.00000   0.90695   0.51613   1.00000   \n",
      "4  0.77152 -0.16399    ...      0.03286  -0.65158   0.13290  -0.53206   \n",
      "\n",
      "   P15Atr01  P15Atr02  P16Atr01  P16Atr02  P17Atr01  P17Atr02  \n",
      "0   0.21266  -0.34090   0.42267  -0.54487   0.18641  -0.45300  \n",
      "1  -0.19040  -0.11593  -0.16626  -0.06288  -0.13738  -0.02447  \n",
      "2   0.43100  -0.17365   0.60436  -0.24180   0.56045  -0.38238  \n",
      "3   1.00000  -0.20099   0.25682   1.00000  -0.32382   1.00000  \n",
      "4   0.02431  -0.62197  -0.05707  -0.59573  -0.04608  -0.65697  \n",
      "\n",
      "[5 rows x 34 columns]\n",
      "0    1\n",
      "1    0\n",
      "2    1\n",
      "3    0\n",
      "4    1\n",
      "Name: Class, dtype: int32\n"
     ]
    }
   ],
   "source": [
    "dfY=df.Class\n",
    "dfX=df.drop(axis='columns',labels='Class')\n",
    "print(dfX.head())\n",
    "print(dfY.head())"
   ]
  },
  {
   "cell_type": "markdown",
   "metadata": {},
   "source": [
    "Normalizando as características de entrada de modo que: x'=(x-μ)/σ"
   ]
  },
  {
   "cell_type": "code",
   "execution_count": 11,
   "metadata": {},
   "outputs": [
    {
     "name": "stdout",
     "output_type": "stream",
     "text": [
      "    P1Atr01  P1Atr02   P2Atr01   P2Atr02   P3Atr01   P3Atr02   P4Atr01  \\\n",
      "0  0.348433      0.0  0.712372 -0.234257  0.484208 -0.201735  0.577059   \n",
      "1  0.348433      0.0  0.721648 -0.527811  0.634308 -1.037587 -1.339106   \n",
      "2  0.348433      0.0  0.721648 -0.176998  0.768477 -0.241309  0.914531   \n",
      "3  0.348433      0.0  0.721648 -1.125172  0.768477  1.921340  0.329433   \n",
      "4  0.348433      0.0  0.721648 -0.155129  0.655594 -0.109918  0.754068   \n",
      "\n",
      "    P4Atr02   P5Atr01   P5Atr02    ...     P13Atr01  P13Atr02  P14Atr01  \\\n",
      "0 -0.954679  0.964074 -0.297510    ...     0.297728 -0.867565 -0.253868   \n",
      "1 -2.029452  0.964074 -0.469482    ...    -1.037790 -0.383054 -1.447849   \n",
      "2 -0.461494  0.746139 -0.350536    ...     0.310141 -0.651896  0.093506   \n",
      "3 -2.152585 -1.010873 -0.375331    ...     1.045426  1.926340 -0.049490   \n",
      "4 -0.676741  0.512838 -0.714742    ...    -0.628910 -1.143025 -0.792950   \n",
      "\n",
      "   P14Atr02  P15Atr01  P15Atr02  P16Atr01  P16Atr02  P17Atr01  P17Atr02  \n",
      "0 -0.713971 -0.288290 -0.617039  0.122937 -1.055054 -0.312221 -0.999595  \n",
      "1 -0.208419 -0.989185 -0.173530 -0.909063 -0.115213 -0.932605 -0.083286  \n",
      "2 -0.276586  0.091389 -0.287320  0.441318 -0.464092  0.404443 -0.848591  \n",
      "3  1.947300  1.080843 -0.341218 -0.167687  1.957315 -1.289826  2.107299  \n",
      "4 -0.842112 -0.615818 -1.171144 -0.717726 -1.154227 -0.757673 -1.435736  \n",
      "\n",
      "[5 rows x 34 columns]\n"
     ]
    }
   ],
   "source": [
    "stdScaler=StandardScaler()\n",
    "Xscl=stdScaler.fit_transform(dfX)\n",
    "dfXscl=pd.DataFrame(Xscl,columns=dfX.columns)\n",
    "print(dfXscl.head())"
   ]
  },
  {
   "cell_type": "markdown",
   "metadata": {},
   "source": [
    "## Modelos\n",
    "\n",
    "Abaixo temos um loop para 100 iterações onde realizamos, em cada iteração, as seguintes ações:\n",
    "\n",
    "* Separamos os conjuntos de treinamento e teste a partir da entrada normalizada ( **dfXscl**) e da saída (**dfY**)\n",
    "* Criamos as os modelos de regressão linear, MLP e Perceptron\n",
    "* Realizamos o treinamento (*fit*) dos modelos a partir dos conjuntos separados anteriormente no passo 1\n",
    "* Calculamos a acurácia de cada modelo e adicionamos a lista com as acurácias do modelo correspondente\n",
    "* Calculamos a precisão por classe para cada modelo e adicionamos a uma matriz com as precisões por classe\n",
    "\n",
    "No caso especifico da MLP os melhores parametros foram obtidos com uma única camada oculta, algoritmo de treinamento L-BFGS e função de ativação sigmoide logística. Tolerância do erro de 1.10^-4 e inicializando a taxa de aprendizagem em 0.001.\n",
    "\n",
    "Já para a regressão linear foram utilizadas duas saídas representando **classe 1** e **classe 0**, depois pegamos a classe final deste modelo."
   ]
  },
  {
   "cell_type": "code",
   "execution_count": 12,
   "metadata": {},
   "outputs": [],
   "source": [
    "rnaMLP=[] #cria lista vazia\n",
    "rnaPerc=[]\n",
    "LinReg=[]\n",
    "MlpPrec=np.zeros(shape=(100,2))\n",
    "LinPrec=np.zeros(shape=(100,2))\n",
    "PercPrec=np.zeros(shape=(100,2))\n",
    "for ii in range(0,100):\n",
    "    # separar conjuntos \n",
    "    X_train,X_test,Y_train,Y_test = train_test_split(dfXscl,dfY,test_size=0.2) # separa os conjuntos de teste e treinamento\n",
    "    Y_train_reg=createDoubleColumn(Y_train) #cria uma coluna extra\n",
    "    Y_test_reg=createDoubleColumn(Y_test) #cria uma coluna extra\n",
    "    # criar objetos\n",
    "    linreg=LinearRegression() #objeto da regressão linear\n",
    "    mlp=MLPClassifier(hidden_layer_sizes=(20,),solver='lbfgs',activation='logistic',tol=1e-4,learning_rate_init=0.001,max_iter=200) #objeto da MLP\n",
    "    perc=Perceptron(max_iter=200,tol=1e-3) #objeto do perceptron\n",
    "    # fits\n",
    "    linreg.fit(X_train,Y_train_reg) # fit regressão linear\n",
    "    mlp.fit(X_train,Y_train) #fit MLP\n",
    "    perc.fit(X_train,Y_train) #fit Perceptron\n",
    "    # acuracias\n",
    "    LinOut=linreg.predict(X_test) #obtem a saida da regressão linear, duas colunas\n",
    "    LinOut=getClass(LinOut) #indica com a classe resultante, aquela com o maior valor da regressão linear\n",
    "    LinReg.append(accuracy_score(y_pred=LinOut,y_true=Y_test)) #adiciona acuracia a lista\n",
    "    rnaMLP.append(mlp.score(X_test,Y_test)) #adiciona acuracia a lista\n",
    "    rnaPerc.append(perc.score(X_test,Y_test)) #adiciona acuracia a lista\n",
    "    #precisoes por classe\n",
    "    LinPrec[ii]=precision_score(y_pred=LinOut,y_true=Y_test,average=None)\n",
    "    MlpPrec[ii]=precision_score(y_pred=mlp.predict(X_test),y_true=Y_test,average=None)\n",
    "    PercPrec[ii]=precision_score(y_pred=perc.predict(X_test),y_true=Y_test,average=None)\n",
    "LinReg=np.array(LinReg) #transforma a lista em numpy.array para efetuar calculos.\n",
    "rnaMLP=np.array(rnaMLP)\n",
    "rnaPerc=np.array(rnaPerc)"
   ]
  },
  {
   "cell_type": "markdown",
   "metadata": {},
   "source": [
    "Em seguida calculamos os valores máximo, mínimo e médio da acurácia para cada modelo, além do desvio padrão."
   ]
  },
  {
   "cell_type": "code",
   "execution_count": 13,
   "metadata": {},
   "outputs": [
    {
     "name": "stdout",
     "output_type": "stream",
     "text": [
      "             Max      Mean       Min    StdDev\n",
      "LinReg  0.943662  0.858169  0.746479  0.043377\n",
      "MLP     0.971831  0.887746  0.774648  0.042881\n",
      "Percep  0.943662  0.840423  0.549296  0.061233\n"
     ]
    }
   ],
   "source": [
    "MaxValues=[LinReg.max(),rnaMLP.max(),rnaPerc.max()]\n",
    "MinValues=[LinReg.min(),rnaMLP.min(),rnaPerc.min()]\n",
    "MeanValues=[LinReg.mean(),rnaMLP.mean(),rnaPerc.mean()]\n",
    "StdDev=[LinReg.std(),rnaMLP.std(),rnaPerc.std()]\n",
    "print(pd.DataFrame({'Max':MaxValues ,'Min': MinValues,'Mean':MeanValues, 'StdDev':StdDev},index=['LinReg','MLP','Percep']))"
   ]
  },
  {
   "cell_type": "markdown",
   "metadata": {},
   "source": [
    "Agora avaliamos a precisão de cada modelo para cada classe:"
   ]
  },
  {
   "cell_type": "code",
   "execution_count": 14,
   "metadata": {},
   "outputs": [
    {
     "name": "stdout",
     "output_type": "stream",
     "text": [
      "               0         1\n",
      "LinReg  0.941491  0.830443\n",
      "MLP     0.901457  0.883068\n",
      "Percep  0.806759  0.865231\n"
     ]
    }
   ],
   "source": [
    "print(pd.DataFrame([LinPrec.mean(axis=0),MlpPrec.mean(axis=0),PercPrec.mean(axis=0)],index=['LinReg','MLP','Percep']))"
   ]
  },
  {
   "cell_type": "markdown",
   "metadata": {},
   "source": [
    "## Conclusões Finais\n",
    "* Podemos ver que a regressão possui uma melhor precisão ao avaliar a **classe 0**, mas a MLP possui um desempenho similar para ambas as classes.  \n",
    "* A acurácia média da MLP é a maior dentre os três modelos avaliados.\n",
    "* A melhor desempenho (*max*) também é do modelo MLP."
   ]
  },
  {
   "cell_type": "code",
   "execution_count": null,
   "metadata": {},
   "outputs": [],
   "source": []
  }
 ],
 "metadata": {
  "kernelspec": {
   "display_name": "Python 3",
   "language": "python",
   "name": "python3"
  },
  "language_info": {
   "codemirror_mode": {
    "name": "ipython",
    "version": 3
   },
   "file_extension": ".py",
   "mimetype": "text/x-python",
   "name": "python",
   "nbconvert_exporter": "python",
   "pygments_lexer": "ipython3",
   "version": "3.6.5"
  }
 },
 "nbformat": 4,
 "nbformat_minor": 2
}
